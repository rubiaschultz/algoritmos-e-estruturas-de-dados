{
  "nbformat": 4,
  "nbformat_minor": 0,
  "metadata": {
    "colab": {
      "provenance": [],
      "gpuType": "T4",
      "authorship_tag": "ABX9TyN04NHys7qwIINfJE7SXKhk",
      "include_colab_link": true
    },
    "kernelspec": {
      "name": "python3",
      "display_name": "Python 3"
    },
    "language_info": {
      "name": "python"
    },
    "accelerator": "GPU"
  },
  "cells": [
    {
      "cell_type": "markdown",
      "metadata": {
        "id": "view-in-github",
        "colab_type": "text"
      },
      "source": [
        "<a href=\"https://colab.research.google.com/github/rubiaschultz/algoritmos-e-estruturas-de-dados/blob/master/TesteSegmentacao.ipynb\" target=\"_parent\"><img src=\"https://colab.research.google.com/assets/colab-badge.svg\" alt=\"Open In Colab\"/></a>"
      ]
    },
    {
      "cell_type": "code",
      "execution_count": 11,
      "metadata": {
        "colab": {
          "base_uri": "https://localhost:8080/"
        },
        "id": "r2fsvjXuBzpF",
        "outputId": "265e9f21-ad08-4b51-d547-486dfc0e183e"
      },
      "outputs": [
        {
          "output_type": "stream",
          "name": "stdout",
          "text": [
            "fatal: destination path 'iwamasa-2022' already exists and is not an empty directory.\n"
          ]
        }
      ],
      "source": [
        "! git clone https://github.com/MorphometricsGroup/iwamasa-2022.git"
      ]
    },
    {
      "cell_type": "code",
      "source": [
        "!ls iwamasa-2022"
      ],
      "metadata": {
        "colab": {
          "base_uri": "https://localhost:8080/"
        },
        "id": "X-F5-VSTDpHA",
        "outputId": "cec47173-ae22-439c-975d-8190c8598c41"
      },
      "execution_count": 12,
      "outputs": [
        {
          "output_type": "stream",
          "name": "stdout",
          "text": [
            "data\t\t    Dockerfile\tmodels\t   poetry.lock\t   README.md\n",
            "docker-compose.yml  LICENSE\tnotebooks  pyproject.toml\n"
          ]
        }
      ]
    }
  ]
}